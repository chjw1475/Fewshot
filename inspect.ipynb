{
 "cells": [
  {
   "cell_type": "code",
   "execution_count": 1,
   "metadata": {},
   "outputs": [],
   "source": [
    "import argparse, random\n",
    "from tqdm import tqdm\n",
    "\n",
    "import torch\n",
    "from torch.optim.lr_scheduler import StepLR\n",
    "\n",
    "# custom packages\n",
    "from configs.conf import configuration\n",
    "from dataset_mini import *"
   ]
  },
  {
   "cell_type": "code",
   "execution_count": 2,
   "metadata": {},
   "outputs": [],
   "source": [
    "# deal with params\n",
    "parser = argparse.ArgumentParser()\n",
    "parser.add_argument('--exp_name', type=str, default='debug', help=\"model_name\")\n",
    "parser.add_argument('--gpu', type=int, default=1, help=\"gpu\")\n",
    "parser.add_argument('--n_epochs', type=int, default=2000, help=\"epoch\") # 2000\n",
    "parser.add_argument('--alg', type=str, default='cycle_2', help=\"alg\")\n",
    "parser.add_argument('--command', type=str, default='train', help=\"train or infer\")\n",
    "get_args, _ = parser.parse_known_args()\n",
    "\n",
    "args = configuration()\n",
    "args.exp_name = get_args.exp_name\n",
    "args.gpu = get_args.gpu\n",
    "args.n_epochs = get_args.n_epochs\n",
    "args.alg = get_args.alg\n",
    "args.command = get_args.command\n",
    "\n",
    "args.initialize()"
   ]
  },
  {
   "cell_type": "code",
   "execution_count": null,
   "metadata": {},
   "outputs": [],
   "source": []
  },
  {
   "cell_type": "code",
   "execution_count": 3,
   "metadata": {},
   "outputs": [],
   "source": [
    "# RANDOM SEED\n",
    "torch.manual_seed(args.seed)\n",
    "if torch.cuda.is_available(): torch.cuda.manual_seed_all(args.seed)\n",
    "np.random.seed(args.seed)\n",
    "random.seed(args.seed)\n",
    "torch.set_num_threads(2)\n",
    "torch.backends.cudnn.benchmark = True"
   ]
  },
  {
   "cell_type": "code",
   "execution_count": 4,
   "metadata": {},
   "outputs": [
    {
     "name": "stdout",
     "output_type": "stream",
     "text": [
      "84 84 3\n",
      "init data loader\n"
     ]
    }
   ],
   "source": [
    "im_width, im_height, channels = list(map(int, args.x_dim.split(',')))\n",
    "print(im_width, im_height, channels)\n",
    "\n",
    "# Step 1: init dataloader\n",
    "print(\"init data loader\")\n",
    "if args.dataset == 'mini':\n",
    "    loader_train = dataset_mini(args.n_examples, args.n_episodes, 'train', args)\n",
    "    loader_val = dataset_mini(args.n_examples, args.n_episodes, 'val', args)    "
   ]
  },
  {
   "cell_type": "code",
   "execution_count": null,
   "metadata": {},
   "outputs": [],
   "source": [
    "root_dir = ./dataset/miniImagenet'"
   ]
  },
  {
   "cell_type": "code",
   "execution_count": 11,
   "metadata": {},
   "outputs": [],
   "source": [
    "self = loader_val"
   ]
  },
  {
   "cell_type": "code",
   "execution_count": 12,
   "metadata": {},
   "outputs": [
    {
     "name": "stdout",
     "output_type": "stream",
     "text": [
      "Loading pkl dataset: ./dataset/miniImagenet/data/mini-imagenet-cache-val.pkl \n",
      "n_classes:16, n_label:600, n_unlabel:0\n",
      "labeled data: (16, 600, 84, 84, 3)\n",
      "unlabeled data: (0,)\n"
     ]
    }
   ],
   "source": [
    "\"\"\"\n",
    "    load the pkl processed mini-imagenet into label,unlabel\n",
    "\"\"\"\n",
    "pkl_name = '{}/data/mini-imagenet-cache-{}.pkl'.format(self.root_dir, self.split)\n",
    "print('Loading pkl dataset: {} '.format(pkl_name))\n",
    "\n",
    "try:\n",
    "    with open(pkl_name, \"rb\") as f:\n",
    "        data         = pkl.load(f, encoding='bytes')\n",
    "        image_data   = data[b'image_data']\n",
    "        class_dict   = data[b'class_dict']\n",
    "except:\n",
    "    with open(pkl_name, \"rb\") as f:\n",
    "        data         = pkl.load(f)\n",
    "        image_data   = data['image_data']\n",
    "        class_dict   = data['class_dict']\n",
    "\n",
    "#         print(data.keys(), image_data.shape, class_dict.keys())\n",
    "data_classes     = sorted(class_dict.keys()) # sorted to keep the order\n",
    "\n",
    "n_classes        = len(data_classes)\n",
    "print('n_classes:{}, n_label:{}, n_unlabel:{}'.format(n_classes,self.n_label,self.n_unlabel))\n",
    "dataset_l        = np.zeros([n_classes, self.n_label, self.im_height, self.im_width, self.channels], dtype=np.float32)\n",
    "if self.n_unlabel>0:\n",
    "    dataset_u    = np.zeros([n_classes, self.n_unlabel, self.im_height, self.im_width, self.channels], dtype=np.float32)\n",
    "else:\n",
    "    dataset_u    = []\n",
    "\n",
    "for i, cls in enumerate(data_classes):\n",
    "    idxs         = class_dict[cls] \n",
    "    np.random.RandomState(self.seed).shuffle(idxs) # fix the seed to keep label,unlabel fixed\n",
    "    dataset_l[i] = image_data[idxs[0:self.n_label]]\n",
    "    if self.n_unlabel>0:\n",
    "        dataset_u[i] = image_data[idxs[self.n_label:]]\n",
    "print('labeled data:', np.shape(dataset_l))\n",
    "print('unlabeled data:', np.shape(dataset_u))\n",
    "\n",
    "self.dataset_l   = dataset_l\n",
    "self.dataset_u   = dataset_u\n",
    "self.n_classes   = n_classes"
   ]
  },
  {
   "cell_type": "code",
   "execution_count": 13,
   "metadata": {},
   "outputs": [
    {
     "data": {
      "text/plain": [
       "16"
      ]
     },
     "execution_count": 13,
     "metadata": {},
     "output_type": "execute_result"
    }
   ],
   "source": [
    "self.n_classes"
   ]
  },
  {
   "cell_type": "code",
   "execution_count": 14,
   "metadata": {},
   "outputs": [
    {
     "data": {
      "text/plain": [
       "['n01855672',\n",
       " 'n02091244',\n",
       " 'n02114548',\n",
       " 'n02138441',\n",
       " 'n02174001',\n",
       " 'n02950826',\n",
       " 'n02971356',\n",
       " 'n02981792',\n",
       " 'n03075370',\n",
       " 'n03417042',\n",
       " 'n03535780',\n",
       " 'n03584254',\n",
       " 'n03770439',\n",
       " 'n03773504',\n",
       " 'n03980874',\n",
       " 'n09256479']"
      ]
     },
     "execution_count": 14,
     "metadata": {},
     "output_type": "execute_result"
    }
   ],
   "source": [
    "data_classes"
   ]
  },
  {
   "cell_type": "code",
   "execution_count": 22,
   "metadata": {},
   "outputs": [],
   "source": [
    "dict_class = {}\n",
    "for ep in range(100):\n",
    "    selected_classes = np.random.permutation(data_classes)[:5]\n",
    "    for cls in selected_classes:\n",
    "        if cls not in dict_class.keys():\n",
    "            dict_class[cls] = 0\n",
    "        dict_class[cls] += 20"
   ]
  },
  {
   "cell_type": "code",
   "execution_count": 23,
   "metadata": {},
   "outputs": [
    {
     "data": {
      "text/plain": [
       "{'n03773504': 720,\n",
       " 'n02971356': 720,\n",
       " 'n09256479': 720,\n",
       " 'n03417042': 720,\n",
       " 'n01855672': 520,\n",
       " 'n02114548': 640,\n",
       " 'n03535780': 620,\n",
       " 'n03980874': 660,\n",
       " 'n02950826': 620,\n",
       " 'n03770439': 660,\n",
       " 'n02174001': 640,\n",
       " 'n02138441': 660,\n",
       " 'n02981792': 520,\n",
       " 'n03075370': 560,\n",
       " 'n03584254': 440,\n",
       " 'n02091244': 580}"
      ]
     },
     "execution_count": 23,
     "metadata": {},
     "output_type": "execute_result"
    }
   ],
   "source": [
    "dict_class"
   ]
  },
  {
   "cell_type": "code",
   "execution_count": null,
   "metadata": {},
   "outputs": [],
   "source": []
  },
  {
   "cell_type": "code",
   "execution_count": null,
   "metadata": {},
   "outputs": [],
   "source": []
  },
  {
   "cell_type": "code",
   "execution_count": null,
   "metadata": {},
   "outputs": [],
   "source": []
  },
  {
   "cell_type": "code",
   "execution_count": null,
   "metadata": {},
   "outputs": [],
   "source": []
  },
  {
   "cell_type": "code",
   "execution_count": 11,
   "metadata": {},
   "outputs": [
    {
     "data": {
      "text/plain": [
       "(16, 600, 84, 84, 3)"
      ]
     },
     "execution_count": 11,
     "metadata": {},
     "output_type": "execute_result"
    }
   ],
   "source": [
    "self.dataset_l.shape"
   ]
  },
  {
   "cell_type": "code",
   "execution_count": 12,
   "metadata": {},
   "outputs": [],
   "source": [
    "selected_classes = np.random.permutation(self.n_classes)[:5]"
   ]
  },
  {
   "cell_type": "code",
   "execution_count": 13,
   "metadata": {},
   "outputs": [
    {
     "data": {
      "text/plain": [
       "array([9, 8, 5, 3, 0])"
      ]
     },
     "execution_count": 13,
     "metadata": {},
     "output_type": "execute_result"
    }
   ],
   "source": [
    "selected_classes"
   ]
  },
  {
   "cell_type": "code",
   "execution_count": 7,
   "metadata": {
    "scrolled": true
   },
   "outputs": [
    {
     "name": "stdout",
     "output_type": "stream",
     "text": [
      "Loading pkl dataset: ./dataset/miniImagenet/data/mini-imagenet-cache-val.pkl \n",
      "n_classes:16, n_label:600, n_unlabel:0\n",
      "labeled data: (16, 600, 84, 84, 3)\n",
      "unlabeled data: (0,)\n"
     ]
    }
   ],
   "source": [
    "loader_val.load_data_pkl()"
   ]
  },
  {
   "cell_type": "code",
   "execution_count": 8,
   "metadata": {},
   "outputs": [],
   "source": [
    "support, s_labels, query, q_labels, unlabel = loader_val.next_data(args.n_test_way, args.n_test_shot,\n",
    "                                                                               args.n_test_query)"
   ]
  },
  {
   "cell_type": "code",
   "execution_count": 9,
   "metadata": {},
   "outputs": [
    {
     "data": {
      "text/plain": [
       "array([[0, 0, 0, 0, 0],\n",
       "       [1, 1, 1, 1, 1],\n",
       "       [2, 2, 2, 2, 2],\n",
       "       [3, 3, 3, 3, 3],\n",
       "       [4, 4, 4, 4, 4]], dtype=uint8)"
      ]
     },
     "execution_count": 9,
     "metadata": {},
     "output_type": "execute_result"
    }
   ],
   "source": [
    "s_labels"
   ]
  },
  {
   "cell_type": "code",
   "execution_count": null,
   "metadata": {},
   "outputs": [],
   "source": []
  }
 ],
 "metadata": {
  "kernelspec": {
   "display_name": "hyoje",
   "language": "python",
   "name": "hyoje"
  },
  "varInspector": {
   "cols": {
    "lenName": 16,
    "lenType": 16,
    "lenVar": 40
   },
   "kernels_config": {
    "python": {
     "delete_cmd_postfix": "",
     "delete_cmd_prefix": "del ",
     "library": "var_list.py",
     "varRefreshCmd": "print(var_dic_list())"
    },
    "r": {
     "delete_cmd_postfix": ") ",
     "delete_cmd_prefix": "rm(",
     "library": "var_list.r",
     "varRefreshCmd": "cat(var_dic_list()) "
    }
   },
   "types_to_exclude": [
    "module",
    "function",
    "builtin_function_or_method",
    "instance",
    "_Feature"
   ],
   "window_display": false
  }
 },
 "nbformat": 4,
 "nbformat_minor": 2
}
